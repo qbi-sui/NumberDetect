{
 "cells": [
  {
   "attachments": {},
   "cell_type": "markdown",
   "metadata": {},
   "source": [
    "# Day4 「Pythonテトリス」の作り方\n",
    "テトリスは、ミノが置かれていない状態を「0」、I字型のミノを「1」、L字型のミノを「2」・・・と数字で呼ぶことにして、<br>\n",
    "`0`から`7`までの数字が`22`段 × `10`列 = `220`個並んだ「NumPy配列」によって表現されている、とDay2で述べました。<br><br>\n",
    "\n",
    "テトリスのコードの仕組みを把握するポイントは、\n",
    "<b>\n",
    "\n",
    "1. ミノの形・回転・移動・落下というルールを、「NumPy配列」によってどうやって表現できる？\n",
    "1. ミノをどの向きでどこに落とすか、どうやって決めればいい？\n",
    "\n",
    "</b>\n",
    "という2点です。<br>\n",
    "文法学習が終わって中盤戦に入るDay4では、本番で使われるコードでこれらの実装を確認し、実際に挙動を試してみることでその理解を深めます。<br>"
   ]
  },
  {
   "attachments": {},
   "cell_type": "markdown",
   "metadata": {},
   "source": [
    "## 0. チュートリアルのゴール\n",
    "<b>ルールベースの場合には`block_controller.py`を、AIの場合には`block_controller_train.py`を書き換えられる</b>ようになることが、学習のゴールです。"
   ]
  },
  {
   "attachments": {},
   "cell_type": "markdown",
   "metadata": {},
   "source": [
    "### 文法学習の補足\n",
    "Day3までの文法学習では、1つの`.py`ファイルや`.ipynb`ファイルでコードを書いてきました。<br>\n",
    "しかし、このテトリスなどのゲームや実際の製品でコードが数百〜数万行にまで膨れてくると、1つのファイルでは行数が多くて読みづらくなってしまいます。<br>\n",
    "そこでPythonでは、複数のファイルにコードを分割することができます。<br>\n",
    "実は今まで「おまじない」として使っていた`import`文の正体は、別のファイルにあるコードを使うための文法でした。<br><br>\n",
    "\n",
    "試しに下のセルを実行してみてください。<br>\n",
    "このセルにはクラスの定義文はおろか`print`文もないのに、いかにもクラスの関数を使用しているっぽい1行が書かれている上に、ある一文が出力されます。<br><br>\n",
    "\n",
    "これは、同じにフォルダに保存された`import_tutorial.py`という別のファイルにあるコードを実行しているからです。<br>\n",
    "`import_tutorial.py`には、文字を表示する機能である関数`printChar()`と、その文字を保存した変数`self.s`を定義する「コンストラクタ」を持つ、`ImportTutorial()`クラスが定義されています。<br>\n",
    "クラスの持つ変数や機能を使うためにはクラスの「インスタンス」を作る必要があり、それは13行目で`IMPORT_TUTORIAL`という名前でなされています。<br><br>\n",
    "\n",
    "テトリスの本番コードでも同じように、別のファイルにあるクラスが使われるときには<br>\n",
    "`from (別のファイル名から拡張子「.py」を除いたもの) import (インスタンスを作った変数の名前)`<br>\n",
    "とコードの冒頭に書かれていて、「別のファイルから変数を自分のコードに取り込できなさい」という命令を表しています。"
   ]
  },
  {
   "cell_type": "code",
   "execution_count": 108,
   "metadata": {},
   "outputs": [
    {
     "ename": "ModuleNotFoundError",
     "evalue": "No module named 'import_tutorial'",
     "output_type": "error",
     "traceback": [
      "\u001b[1;31m---------------------------------------------------------------------------\u001b[0m",
      "\u001b[1;31mModuleNotFoundError\u001b[0m                       Traceback (most recent call last)",
      "\u001b[1;32mc:\\Users\\nyasu\\OneDrive\\デスクトップ\\技術チャレンジ部\\2023\\tetris-master\\game_manager\\machine_learning\\model\\tutorial\\block_controller_tutorial.ipynb セル 4\u001b[0m in \u001b[0;36m<cell line: 1>\u001b[1;34m()\u001b[0m\n\u001b[1;32m----> <a href='vscode-notebook-cell:/c%3A/Users/nyasu/OneDrive/%E3%83%87%E3%82%B9%E3%82%AF%E3%83%88%E3%83%83%E3%83%97/%E6%8A%80%E8%A1%93%E3%83%81%E3%83%A3%E3%83%AC%E3%83%B3%E3%82%B8%E9%83%A8/2023/tetris-master/game_manager/machine_learning/model/tutorial/block_controller_tutorial.ipynb#W3sZmlsZQ%3D%3D?line=0'>1</a>\u001b[0m \u001b[39mfrom\u001b[39;00m \u001b[39mimport_tutorial\u001b[39;00m \u001b[39mimport\u001b[39;00m IMPORT_TUTORIAL\n\u001b[0;32m      <a href='vscode-notebook-cell:/c%3A/Users/nyasu/OneDrive/%E3%83%87%E3%82%B9%E3%82%AF%E3%83%88%E3%83%83%E3%83%97/%E6%8A%80%E8%A1%93%E3%83%81%E3%83%A3%E3%83%AC%E3%83%B3%E3%82%B8%E9%83%A8/2023/tetris-master/game_manager/machine_learning/model/tutorial/block_controller_tutorial.ipynb#W3sZmlsZQ%3D%3D?line=1'>2</a>\u001b[0m IMPORT_TUTORIAL\u001b[39m.\u001b[39mprintChar()\n",
      "\u001b[1;31mModuleNotFoundError\u001b[0m: No module named 'import_tutorial'"
     ]
    }
   ],
   "source": [
    "from import_tutorial import IMPORT_TUTORIAL\n",
    "IMPORT_TUTORIAL.printChar()"
   ]
  },
  {
   "attachments": {},
   "cell_type": "markdown",
   "metadata": {},
   "source": [
    "### 本番コードのファイル構成\n",
    "複数ファイルにコードが分割されていても実行する方法があることを知った上で、テトリスの本番コードにおける`.py`ファイルの場所と役割を、<b><a href=\"https://github.com/seigot/tetris/tree/master#%E3%83%95%E3%82%A1%E3%82%A4%E3%83%AB%E6%A7%8B%E6%88%90\">GitHubのREADMEファイル</a></b>で確認しておきましょう。<br><br>\n",
    "\n",
    "テトリスを実行するときコマンドプロンプトやターミナルに<br>\n",
    "`python start.py`<br>\n",
    "という一行を入力して`Enter`キーを押していますが、これは「`start.py`の中身を実行せよ」という命令を意味していました。<br>\n",
    "READMEの図は`start.py`を起点に、複数のファイルにまたがったクラスを呼び出している繋がりを表しています。<br><br>\n",
    "\n",
    "上で述べた\n",
    "\n",
    "- ミノの形・回転・移動・落下というルール\n",
    "\n",
    "やゲーム画面の表示は、`game_manager`フォルダにある`game_manager.py`という<b>ゲーム管理用プログラム</b>と、`board_manager.py`という<b>ルール管理用プログラム</b>に、\n",
    "\n",
    "- ミノをどの向きでどこに落とすか\n",
    "\n",
    "という、皆さんに作っていただきたいミノの落とし方の作戦は、同じく`game_manager`フォルダにある`block_controller.py`、<br>\n",
    "もしくは`game_manager`フォルダの中の`machne_learning`フォルダにある`block_controller_train.py`という<b>ブロック操作用プログラム</b>に、それぞれ実装されています。<br><br>\n",
    "\n",
    "`block_controller.py`もしくは`block_controller_train.py`の中でも、<b>関数`GetNextMove()`が落とし方の作戦を計算している</b>部分です。<br>\n",
    "本チュートリアルは、この関数で登場するミノの落とし方や作戦の計算方法を学ぶことが目的です。<br>\n",
    "詳しい作りや流れはさておき、<span style=\"color: red; \">**実際にコードを読むときにはチュートリアル以上の内容は読み込まなくて問題ない**</span>ように、必要な部分だけを本番コードから抜き出して作っています。\n",
    "\n",
    "<div align=\"center\">\n",
    "<img src=\"img/tetris_mermaid.png\" width=\"500\">\n",
    "</div>"
   ]
  },
  {
   "cell_type": "code",
   "execution_count": 51,
   "metadata": {},
   "outputs": [],
   "source": [
    "import copy\n",
    "class Shape(object):\n",
    "    shapeNone = 0\n",
    "    shapeI = 1\n",
    "    shapeL = 2\n",
    "    shapeJ = 3\n",
    "    shapeT = 4\n",
    "    shapeO = 5\n",
    "    shapeS = 6\n",
    "    shapeZ = 7\n",
    "\n",
    "    # shape1 : ****\n",
    "    #          ----\n",
    "    #          ----\n",
    "    #\n",
    "    # shape2 : -*--\n",
    "    #          -*--\n",
    "    #          -**-\n",
    "    #\n",
    "    # shape3 : --*-\n",
    "    #          --*-\n",
    "    #          -**-\n",
    "    #\n",
    "    # shape4 : -*--\n",
    "    #          -**-\n",
    "    #          -*--\n",
    "    #\n",
    "    # shape5 : -**-\n",
    "    #          -**-\n",
    "    #          ----\n",
    "    #\n",
    "    # shape6 : -**-\n",
    "    #          **--\n",
    "    #          ----\n",
    "    #\n",
    "    # shape7 : **--\n",
    "    #          -**-\n",
    "    #          ----\n",
    "    #\n",
    "    #テトリミノ形状座標タプル\n",
    "    shapeCoord = (\n",
    "        ((0, 0), (0, 0), (0, 0), (0, 0)),\n",
    "        ((0, -1), (0, 0), (0, 1), (0, 2)),\n",
    "        ((0, -1), (0, 0), (0, 1), (1, 1)),\n",
    "        ((0, -1), (0, 0), (0, 1), (-1, 1)),\n",
    "        ((0, -1), (0, 0), (0, 1), (1, 0)),\n",
    "        ((0, 0), (0, -1), (1, 0), (1, -1)),\n",
    "        ((0, 0), (0, -1), (-1, 0), (1, -1)),\n",
    "        ((0, 0), (0, -1), (1, 0), (-1, -1))\n",
    "    )\n",
    "\n",
    "    def __init__(self, shape=0):\n",
    "        self.shape = shape\n",
    "\n",
    "    ##############################\n",
    "    # テトリミノ形状を回転した座標を返す\n",
    "    # direction: テトリミノ回転方向\n",
    "    ##############################\n",
    "    def getRotatedOffsets(self, direction):\n",
    "        # テトリミノ形状座標タプルを取得\n",
    "        tmpCoords = Shape.shapeCoord[self.shape]\n",
    "        # 方向によってテトリミノ形状座標タプルを回転させる\n",
    "        if direction == 0 or self.shape == Shape.shapeO:\n",
    "            return ((x, y) for x, y in tmpCoords)\n",
    "\n",
    "        if direction == 1:\n",
    "            return ((-y, x) for x, y in tmpCoords)\n",
    "\n",
    "        if direction == 2:\n",
    "            if self.shape in (Shape.shapeI, Shape.shapeZ, Shape.shapeS):\n",
    "                return ((x, y) for x, y in tmpCoords)\n",
    "            else:\n",
    "                return ((-x, -y) for x, y in tmpCoords)\n",
    "\n",
    "        if direction == 3:\n",
    "            if self.shape in (Shape.shapeI, Shape.shapeZ, Shape.shapeS):\n",
    "                return ((-y, x) for x, y in tmpCoords)\n",
    "            else:\n",
    "                return ((y, -x) for x, y in tmpCoords)\n",
    "\n",
    "    ###################\n",
    "    # direction (回転状態)のテトリミノ座標配列を取得し、それをx,yに配置した場合の座標配列を返す\n",
    "    ###################\n",
    "    def getCoords(self, direction, x, y):\n",
    "        return ((x + xx, y + yy) for xx, yy in self.getRotatedOffsets(direction))\n",
    "\n",
    "    ###################\n",
    "    # テトリミノが原点から x,y 両方向に最大何マス占有するのか返す\n",
    "    ###################\n",
    "    def getBoundingOffsets(self, direction):\n",
    "        # テトリミノ形状を回転した座標を返す\n",
    "        tmpCoords = self.getRotatedOffsets(direction)\n",
    "        # \n",
    "        minX, maxX, minY, maxY = 0, 0, 0, 0\n",
    "        for x, y in tmpCoords:\n",
    "            if minX > x:\n",
    "                minX = x\n",
    "            if maxX < x:\n",
    "                maxX = x\n",
    "            if minY > y:\n",
    "                minY = y\n",
    "            if maxY < y:\n",
    "                maxY = y\n",
    "        return (minX, maxX, minY, maxY)\n",
    "\n",
    "def getShapeCoordArray(Shape_class, direction, x, y):\n",
    "    #\n",
    "    # get coordinate array by given shape.\n",
    "    #\n",
    "    coordArray = Shape_class.getCoords(direction, x, y) # get array from shape direction, x, y.\n",
    "    return coordArray\n",
    "\n",
    "def getBoard(board_backboard, Shape_class, direction, x):\n",
    "    # \n",
    "    # get new board.\n",
    "    #\n",
    "    # copy backboard data to make new board.\n",
    "    # if not, original backboard data will be updated later.\n",
    "    board = copy.deepcopy(board_backboard)\n",
    "    _board = dropDown(board, Shape_class, direction, x)\n",
    "    return _board\n",
    "\n",
    "def dropDown(board, Shape_class, direction, x):\n",
    "    # \n",
    "    # internal function of getBoard.\n",
    "    # -- drop down the shape on the board.\n",
    "    # \n",
    "    dy = 22 - 1\n",
    "    coordArray = getShapeCoordArray(Shape_class, direction, x, 0)\n",
    "    # update dy\n",
    "    for _x, _y in coordArray:\n",
    "        _yy = 0\n",
    "        while _yy + _y < 22 and (_yy + _y < 0 or board[(_y + _yy) * 10 + _x] == 0):\n",
    "            _yy += 1\n",
    "        _yy -= 1\n",
    "        if _yy < dy:\n",
    "            dy = _yy\n",
    "    # get new board\n",
    "    _board = dropDownWithDy(board, Shape_class, direction, x, dy)\n",
    "    return _board\n",
    "\n",
    "def dropDownWithDy(board, Shape_class, direction, x, dy):\n",
    "    #\n",
    "    # internal function of dropDown.\n",
    "    #\n",
    "    _board = board\n",
    "    coordArray = getShapeCoordArray(Shape_class, direction, x, 0)\n",
    "    for _x, _y in coordArray:\n",
    "        _board[(_y + dy) * 10 + _x] = Shape_class.shape\n",
    "    return _board"
   ]
  },
  {
   "cell_type": "code",
   "execution_count": 98,
   "metadata": {},
   "outputs": [],
   "source": [
    "#ブロック可視化関数 (numpy 配列からテトリスの盤面を可視化)\n",
    "def visualize_block(board, shape, size=0.5):\n",
    "    board = board.reshape(shape)\n",
    "    block_array = []\n",
    "    fig, ax = plt.subplots()\n",
    "    fig.set_figwidth(shape[0] * size)\n",
    "    fig.set_figheight(shape[1] * size)\n",
    "    for i in range(shape[0]):\n",
    "        row = []\n",
    "        for j in range(shape[1]):\n",
    "            c = colors[int(board[i][j])]\n",
    "            row.append(c)\n",
    "        block_array.append(row)\n",
    "    block_array = np.array(block_array)\n",
    "    im = plt.imshow(block_array)\n",
    "\n",
    "    #グリッド線を引く\n",
    "    ax.set_xticks(np.arange(-0.5, 10, 1), minor=True)\n",
    "    ax.set_yticks(np.arange(-0.5, 23, 1.0), minor=True)\n",
    "    ax.set_xticks(np.arange(-0.5, 10,10))\n",
    "    ax.set_yticks(np.arange(-0.5, 23, 3))\n",
    "    ax.grid(which='minor', color='black', linestyle='-', linewidth=0.5)\n",
    "    ax.grid(which='major', color='black', linestyle='-', linewidth=0.5)\n",
    "    ax.imshow(block_array)\n",
    "\n",
    "colors = [[255,255,255],\n",
    "          [255,0,0],\n",
    "          [0,255,0],\n",
    "          [255,255,0], \n",
    "          [218, 179, 0],\n",
    "          [247, 171, 166],\n",
    "          [0,0,255],\n",
    "          [255,255,0]]"
   ]
  },
  {
   "attachments": {},
   "cell_type": "markdown",
   "metadata": {},
   "source": [
    "- - -"
   ]
  },
  {
   "attachments": {},
   "cell_type": "markdown",
   "metadata": {},
   "source": [
    "## 1. ミノの形と機能を定義しよう\n",
    "・board_managerのShapeクラス<br>\n",
    "・↑を辞書型GameStatusに格納するGame_managerのgetGameStatus\n"
   ]
  },
  {
   "cell_type": "code",
   "execution_count": null,
   "metadata": {},
   "outputs": [],
   "source": []
  },
  {
   "attachments": {},
   "cell_type": "markdown",
   "metadata": {},
   "source": [
    "- - -"
   ]
  },
  {
   "attachments": {},
   "cell_type": "markdown",
   "metadata": {},
   "source": [
    "# 2. 定義したミノを動かしてみよう\n",
    "・block_controllerのgetSearchXRangeらへん<br>\n",
    "・対戦サーバのトレーニングページtest-4, test-5, tetris-1のイメージ"
   ]
  },
  {
   "cell_type": "code",
   "execution_count": 47,
   "metadata": {},
   "outputs": [
    {
     "data": {
      "image/png": "[encoded data removed]",
      "text/plain": [
       "<Figure size 792x360 with 1 Axes>"
      ]
     },
     "metadata": {
      "needs_background": "light"
     },
     "output_type": "display_data"
    }
   ],
   "source": [
    "board = np.array(\n",
    "        [0, 0, 0, 0, 0, 0, 0, 0, 0, 0,\n",
    "        0, 0, 0, 0, 0, 0, 0, 0, 0, 0,\n",
    "        0, 0, 0, 0, 0, 0, 0, 0, 0, 0,\n",
    "        0, 0, 0, 0, 0, 0, 0, 0, 0, 0,\n",
    "        0, 0, 0, 0, 0, 0, 0, 0, 0, 0,\n",
    "        0, 0, 0, 0, 0, 0, 0, 0, 0, 0,\n",
    "        0, 0, 0, 0, 0, 0, 0, 0, 0, 0,\n",
    "        0, 0, 0, 0, 0, 0, 0, 0, 0, 0,\n",
    "        0, 0, 0, 0, 0, 0, 0, 0, 0, 0,\n",
    "        0, 0, 0, 0, 0, 0, 0, 0, 0, 0,\n",
    "        0, 0, 0, 0, 0, 0, 0, 0, 0, 0,\n",
    "        0, 0, 0, 0, 0, 0, 0, 0, 0, 0,\n",
    "        0, 0, 0, 0, 0, 0, 0, 0, 0, 0,\n",
    "        0, 0, 0, 0, 0, 0, 0, 0, 0, 0,\n",
    "        0, 0, 0, 0, 0, 0, 0, 0, 0, 0,\n",
    "        0, 0, 0, 0, 0, 0, 0, 0, 0, 0,\n",
    "        0, 0, 0, 0, 0, 0, 0, 0, 0, 0,\n",
    "        0, 0, 0, 0, 0, 0, 0, 0, 0, 0,\n",
    "        1, 1, 1, 1, 1, 0, 1, 1, 1, 1,\n",
    "        1, 1, 1, 1, 1, 0, 1, 1, 1, 1,\n",
    "        1, 1, 1, 1, 1, 0, 1, 1, 1, 1,\n",
    "        1, 1, 1, 1, 1, 0, 1, 1, 1, 1])\n",
    "\n",
    "visualize_block(board,(22,10)) #可視化\n",
    "\n"
   ]
  },
  {
   "attachments": {},
   "cell_type": "markdown",
   "metadata": {},
   "source": [
    "strategyは、5つの要素から構成される配列です。\n",
    "※AI組のコードはstrategyではなくactionになっています。\n",
    "\n",
    "0: ミノの向き\n",
    "\n",
    "1: ミノの横方向の位置\n",
    "\n",
    "2: 真下に下ろすか(0:yes 1:no)\n",
    "\n",
    "3: (下ろす場合)y方向にどれだけ動かすか\n",
    "\n",
    "4: HOLDするか否か(y: yes n: no)"
   ]
  },
  {
   "cell_type": "code",
   "execution_count": 101,
   "metadata": {},
   "outputs": [],
   "source": [
    "strategy = (1,5,0,0,'n')\n"
   ]
  },
  {
   "cell_type": "code",
   "execution_count": 102,
   "metadata": {},
   "outputs": [
    {
     "data": {
      "image/png": "[encoded data removed]",
      "text/plain": [
       "<Figure size 792x360 with 1 Axes>"
      ]
     },
     "metadata": {
      "needs_background": "light"
     },
     "output_type": "display_data"
    }
   ],
   "source": [
    "shape_class = Shape(1)\n",
    "board2 = getBoard(board,shape_class,strategy[0],strategy[1])\n",
    "visualize_block(board2,shape)"
   ]
  },
  {
   "attachments": {},
   "cell_type": "markdown",
   "metadata": {},
   "source": [
    "- - -"
   ]
  },
  {
   "attachments": {},
   "cell_type": "markdown",
   "metadata": {},
   "source": [
    "# 3. ミノを落とす方法を決めよう\n",
    "・対戦サーバのトレーニングページtest-3のイメージ。あくまで「良さげ度合い」があることに触れるだけで、「良さげ度合い」の計算方法はDay6以降<br>\n",
    "・辞書型nextMove"
   ]
  },
  {
   "cell_type": "code",
   "execution_count": null,
   "metadata": {},
   "outputs": [],
   "source": [
    "\n"
   ]
  },
  {
   "attachments": {},
   "cell_type": "markdown",
   "metadata": {},
   "source": [
    "一番消せる行が多いものを最適な動かし方として考えます。\n",
    "\n",
    "下準備：盤面について何列消せるか数える関数をつくろう\n"
   ]
  },
  {
   "cell_type": "code",
   "execution_count": 29,
   "metadata": {},
   "outputs": [],
   "source": [
    "def calculateNumOfRows(data, shape):\n",
    "    #1次元配列を2次元配列へ変換\n",
    "    data = data.reshape(shape)\n",
    "    #行方向に足し合わせ\n",
    "    rows = np.sum(data,axis=1)\n",
    "    return np.count_nonzero(rows == shape[1])\n",
    "\n",
    "    "
   ]
  },
  {
   "attachments": {},
   "cell_type": "markdown",
   "metadata": {},
   "source": [
    "以下の盤面について、消せる行数があっているか確認しましょう。"
   ]
  },
  {
   "cell_type": "code",
   "execution_count": 70,
   "metadata": {},
   "outputs": [],
   "source": [
    "data = np.array(\n",
    "        [0, 0, 0, 0, 0, 0, 0, 0, 0, 0,\n",
    "        0, 0, 0, 0, 0, 0, 0, 0, 0, 0,\n",
    "        0, 0, 0, 0, 0, 0, 0, 0, 0, 0,\n",
    "        0, 0, 0, 0, 0, 0, 0, 0, 0, 0,\n",
    "        0, 0, 0, 0, 0, 0, 0, 0, 0, 0,\n",
    "        0, 0, 0, 0, 0, 0, 0, 0, 0, 0,\n",
    "        0, 0, 0, 0, 0, 0, 0, 0, 0, 0,\n",
    "        0, 0, 0, 0, 0, 0, 0, 0, 0, 0,\n",
    "        0, 0, 0, 0, 0, 0, 0, 0, 0, 0,\n",
    "        0, 0, 0, 0, 0, 0, 0, 0, 0, 0,\n",
    "        0, 0, 0, 0, 0, 0, 0, 0, 0, 0,\n",
    "        0, 0, 0, 0, 0, 0, 0, 0, 0, 0,\n",
    "        0, 0, 0, 0, 0, 0, 0, 0, 0, 0,\n",
    "        0, 0, 0, 0, 0, 0, 0, 0, 0, 0,\n",
    "        0, 0, 0, 0, 0, 0, 0, 0, 0, 0,\n",
    "        0, 0, 0, 0, 0, 0, 0, 0, 0, 0,\n",
    "        0, 0, 0, 0, 0, 0, 0, 0, 0, 0,\n",
    "        0, 0, 0, 0, 1, 0, 0, 0, 0, 0,\n",
    "        0, 0, 0, 0, 1, 1, 1, 1, 0, 0,\n",
    "        0, 0, 1, 0, 1, 0, 0, 0, 0, 0,\n",
    "        1, 1, 1, 1, 1, 1, 1, 1, 1, 1,\n",
    "        1, 1, 1, 1, 1, 1, 1, 1, 1, 1])\n"
   ]
  },
  {
   "cell_type": "code",
   "execution_count": 36,
   "metadata": {},
   "outputs": [
    {
     "data": {
      "image/png": "[encoded data removed]",
      "text/plain": [
       "<Figure size 792x360 with 1 Axes>"
      ]
     },
     "metadata": {
      "needs_background": "light"
     },
     "output_type": "display_data"
    }
   ],
   "source": [
    "data = np.array(\n",
    "        [0, 0, 0, 0, 0, 0, 0, 0, 0, 0,\n",
    "        0, 0, 0, 0, 0, 0, 0, 0, 0, 0,\n",
    "        0, 0, 0, 0, 0, 0, 0, 0, 0, 0,\n",
    "        0, 0, 0, 0, 0, 0, 0, 0, 0, 0,\n",
    "        0, 0, 0, 0, 0, 0, 0, 0, 0, 0,\n",
    "        0, 0, 0, 0, 0, 0, 0, 0, 0, 0,\n",
    "        0, 0, 0, 0, 0, 0, 0, 0, 0, 0,\n",
    "        0, 0, 0, 0, 0, 0, 0, 0, 0, 0,\n",
    "        0, 0, 0, 0, 0, 0, 0, 0, 0, 0,\n",
    "        0, 0, 0, 0, 0, 0, 0, 0, 0, 0,\n",
    "        0, 0, 0, 0, 0, 0, 0, 0, 0, 0,\n",
    "        0, 0, 0, 0, 0, 0, 0, 0, 0, 0,\n",
    "        0, 0, 0, 0, 0, 0, 0, 0, 0, 0,\n",
    "        0, 0, 0, 0, 0, 0, 0, 0, 0, 0,\n",
    "        0, 0, 0, 0, 0, 0, 0, 0, 0, 0,\n",
    "        0, 0, 0, 0, 0, 0, 0, 0, 0, 0,\n",
    "        0, 0, 0, 0, 0, 0, 0, 0, 0, 0,\n",
    "        0, 0, 0, 0, 0, 0, 0, 0, 0, 0,\n",
    "        1, 1, 1, 1, 1, 0, 1, 1, 1, 1,\n",
    "        1, 1, 1, 1, 1, 0, 1, 1, 1, 1,\n",
    "        1, 1, 1, 1, 1, 0, 1, 1, 1, 1,\n",
    "        1, 1, 1, 1, 1, 0, 1, 1, 1, 1])\n",
    "\n",
    "visualize_block(data,(22,10)) #可視化"
   ]
  },
  {
   "cell_type": "code",
   "execution_count": 72,
   "metadata": {},
   "outputs": [
    {
     "name": "stdout",
     "output_type": "stream",
     "text": [
      "消せる行は2行です\n"
     ]
    }
   ],
   "source": [
    "print(\"消せる行は{0}行です\".format(calculateNumOfRows(data, (22,10))))"
   ]
  },
  {
   "attachments": {},
   "cell_type": "markdown",
   "metadata": {},
   "source": [
    "今実装した関数を利用して、最適な動かし方をサーチしましょう。\n",
    "\n",
    "すべてのミノの向き、すべてのミノの位置について、何行消せるかを計算し、一番消せる行が多いものを採用します。"
   ]
  },
  {
   "cell_type": "code",
   "execution_count": 106,
   "metadata": {},
   "outputs": [],
   "source": [
    "def getmovement(board,shape,shape_class):\n",
    "    current_ans = -1 #今時点で最大消せる行数\n",
    "    strategy = (0,0,0,0,'n') #今時点での最適な行動\n",
    "\n",
    "    #すべての向きで検査\n",
    "    for direction0 in range(2):\n",
    "        #すべての位置で検査(はみ出す場合があるから本当は厳密にやりたいけど…)\n",
    "        for x0 in range(0,10):\n",
    "            board2 = getBoard(board,shape_class,direction0,x0)\n",
    "            count_rows = calculateNumOfRows(board2, shape)\n",
    "            if current_ans < count_rows:\n",
    "                current_ans = count_rows\n",
    "                strategy = (direction0, x0, 0, 0, 'n')\n",
    "    return strategy"
   ]
  },
  {
   "cell_type": "code",
   "execution_count": 107,
   "metadata": {},
   "outputs": [
    {
     "data": {
      "text/plain": [
       "(0, 5, 0, 0, 'n')"
      ]
     },
     "execution_count": 107,
     "metadata": {},
     "output_type": "execute_result"
    }
   ],
   "source": [
    "getmovement(board,(22,10),shape_class)"
   ]
  },
  {
   "attachments": {},
   "cell_type": "markdown",
   "metadata": {},
   "source": [
    "上で想定したactionと一緒になったでしょうか？"
   ]
  },
  {
   "attachments": {},
   "cell_type": "markdown",
   "metadata": {},
   "source": [
    "- - -"
   ]
  },
  {
   "attachments": {},
   "cell_type": "markdown",
   "metadata": {},
   "source": [
    "# 4. 【Day5のHint】ホールド機能を実装しよう\n",
    "・exchangeHoldShapeに軽〜く触れる"
   ]
  },
  {
   "attachments": {},
   "cell_type": "markdown",
   "metadata": {},
   "source": []
  },
  {
   "cell_type": "code",
   "execution_count": 2,
   "metadata": {},
   "outputs": [],
   "source": [
    "import matplotlib.pyplot as plt\n",
    "import numpy as np"
   ]
  },
  {
   "attachments": {},
   "cell_type": "markdown",
   "metadata": {},
   "source": []
  },
  {
   "cell_type": "code",
   "execution_count": 35,
   "metadata": {},
   "outputs": [
    {
     "ename": "AttributeError",
     "evalue": "'list' object has no attribute 'reshape'",
     "output_type": "error",
     "traceback": [
      "\u001b[1;31m---------------------------------------------------------------------------\u001b[0m",
      "\u001b[1;31mAttributeError\u001b[0m                            Traceback (most recent call last)",
      "\u001b[1;32mc:\\Users\\nyasu\\OneDrive\\デスクトップ\\技術チャレンジ部\\2023\\tetris-master\\game_manager\\machine_learning\\model\\tutorial\\block_controller_tutorial.ipynb セル 25\u001b[0m in \u001b[0;36m<cell line: 24>\u001b[1;34m()\u001b[0m\n\u001b[0;32m      <a href='vscode-notebook-cell:/c%3A/Users/nyasu/OneDrive/%E3%83%87%E3%82%B9%E3%82%AF%E3%83%88%E3%83%83%E3%83%97/%E6%8A%80%E8%A1%93%E3%83%81%E3%83%A3%E3%83%AC%E3%83%B3%E3%82%B8%E9%83%A8/2023/tetris-master/game_manager/machine_learning/model/tutorial/block_controller_tutorial.ipynb#X25sZmlsZQ%3D%3D?line=0'>1</a>\u001b[0m data \u001b[39m=\u001b[39m [\u001b[39m0\u001b[39m, \u001b[39m0\u001b[39m, \u001b[39m0\u001b[39m, \u001b[39m0\u001b[39m, \u001b[39m0\u001b[39m, \u001b[39m0\u001b[39m, \u001b[39m0\u001b[39m, \u001b[39m0\u001b[39m, \u001b[39m0\u001b[39m, \u001b[39m0\u001b[39m,\n\u001b[0;32m      <a href='vscode-notebook-cell:/c%3A/Users/nyasu/OneDrive/%E3%83%87%E3%82%B9%E3%82%AF%E3%83%88%E3%83%83%E3%83%97/%E6%8A%80%E8%A1%93%E3%83%81%E3%83%A3%E3%83%AC%E3%83%B3%E3%82%B8%E9%83%A8/2023/tetris-master/game_manager/machine_learning/model/tutorial/block_controller_tutorial.ipynb#X25sZmlsZQ%3D%3D?line=1'>2</a>\u001b[0m         \u001b[39m0\u001b[39m, \u001b[39m0\u001b[39m, \u001b[39m0\u001b[39m, \u001b[39m0\u001b[39m, \u001b[39m0\u001b[39m, \u001b[39m0\u001b[39m, \u001b[39m0\u001b[39m, \u001b[39m0\u001b[39m, \u001b[39m0\u001b[39m, \u001b[39m0\u001b[39m,\n\u001b[0;32m      <a href='vscode-notebook-cell:/c%3A/Users/nyasu/OneDrive/%E3%83%87%E3%82%B9%E3%82%AF%E3%83%88%E3%83%83%E3%83%97/%E6%8A%80%E8%A1%93%E3%83%81%E3%83%A3%E3%83%AC%E3%83%B3%E3%82%B8%E9%83%A8/2023/tetris-master/game_manager/machine_learning/model/tutorial/block_controller_tutorial.ipynb#X25sZmlsZQ%3D%3D?line=2'>3</a>\u001b[0m         \u001b[39m0\u001b[39m, \u001b[39m0\u001b[39m, \u001b[39m0\u001b[39m, \u001b[39m0\u001b[39m, \u001b[39m0\u001b[39m, \u001b[39m0\u001b[39m, \u001b[39m0\u001b[39m, \u001b[39m0\u001b[39m, \u001b[39m0\u001b[39m, \u001b[39m0\u001b[39m,\n\u001b[1;32m   (...)\u001b[0m\n\u001b[0;32m     <a href='vscode-notebook-cell:/c%3A/Users/nyasu/OneDrive/%E3%83%87%E3%82%B9%E3%82%AF%E3%83%88%E3%83%83%E3%83%97/%E6%8A%80%E8%A1%93%E3%83%81%E3%83%A3%E3%83%AC%E3%83%B3%E3%82%B8%E9%83%A8/2023/tetris-master/game_manager/machine_learning/model/tutorial/block_controller_tutorial.ipynb#X25sZmlsZQ%3D%3D?line=20'>21</a>\u001b[0m         \u001b[39m0\u001b[39m, \u001b[39m0\u001b[39m, \u001b[39m0\u001b[39m, \u001b[39m0\u001b[39m, \u001b[39m0\u001b[39m, \u001b[39m0\u001b[39m, \u001b[39m0\u001b[39m, \u001b[39m0\u001b[39m, \u001b[39m0\u001b[39m, \u001b[39m0\u001b[39m,\n\u001b[0;32m     <a href='vscode-notebook-cell:/c%3A/Users/nyasu/OneDrive/%E3%83%87%E3%82%B9%E3%82%AF%E3%83%88%E3%83%83%E3%83%97/%E6%8A%80%E8%A1%93%E3%83%81%E3%83%A3%E3%83%AC%E3%83%B3%E3%82%B8%E9%83%A8/2023/tetris-master/game_manager/machine_learning/model/tutorial/block_controller_tutorial.ipynb#X25sZmlsZQ%3D%3D?line=21'>22</a>\u001b[0m         \u001b[39m0\u001b[39m, \u001b[39m0\u001b[39m, \u001b[39m0\u001b[39m, \u001b[39m0\u001b[39m, \u001b[39m0\u001b[39m, \u001b[39m0\u001b[39m, \u001b[39m0\u001b[39m, \u001b[39m0\u001b[39m, \u001b[39m0\u001b[39m, \u001b[39m0\u001b[39m]\n\u001b[1;32m---> <a href='vscode-notebook-cell:/c%3A/Users/nyasu/OneDrive/%E3%83%87%E3%82%B9%E3%82%AF%E3%83%88%E3%83%83%E3%83%97/%E6%8A%80%E8%A1%93%E3%83%81%E3%83%A3%E3%83%AC%E3%83%B3%E3%82%B8%E9%83%A8/2023/tetris-master/game_manager/machine_learning/model/tutorial/block_controller_tutorial.ipynb#X25sZmlsZQ%3D%3D?line=23'>24</a>\u001b[0m visualize_block(data,(\u001b[39m22\u001b[39;49m,\u001b[39m10\u001b[39;49m))\n",
      "\u001b[1;32mc:\\Users\\nyasu\\OneDrive\\デスクトップ\\技術チャレンジ部\\2023\\tetris-master\\game_manager\\machine_learning\\model\\tutorial\\block_controller_tutorial.ipynb セル 25\u001b[0m in \u001b[0;36mvisualize_block\u001b[1;34m(data, shape, size)\u001b[0m\n\u001b[0;32m      <a href='vscode-notebook-cell:/c%3A/Users/nyasu/OneDrive/%E3%83%87%E3%82%B9%E3%82%AF%E3%83%88%E3%83%83%E3%83%97/%E6%8A%80%E8%A1%93%E3%83%81%E3%83%A3%E3%83%AC%E3%83%B3%E3%82%B8%E9%83%A8/2023/tetris-master/game_manager/machine_learning/model/tutorial/block_controller_tutorial.ipynb#X25sZmlsZQ%3D%3D?line=1'>2</a>\u001b[0m \u001b[39mdef\u001b[39;00m \u001b[39mvisualize_block\u001b[39m(data, shape, size\u001b[39m=\u001b[39m\u001b[39m0.5\u001b[39m):\n\u001b[1;32m----> <a href='vscode-notebook-cell:/c%3A/Users/nyasu/OneDrive/%E3%83%87%E3%82%B9%E3%82%AF%E3%83%88%E3%83%83%E3%83%97/%E6%8A%80%E8%A1%93%E3%83%81%E3%83%A3%E3%83%AC%E3%83%B3%E3%82%B8%E9%83%A8/2023/tetris-master/game_manager/machine_learning/model/tutorial/block_controller_tutorial.ipynb#X25sZmlsZQ%3D%3D?line=2'>3</a>\u001b[0m     data \u001b[39m=\u001b[39m data\u001b[39m.\u001b[39;49mreshape(shape)\n\u001b[0;32m      <a href='vscode-notebook-cell:/c%3A/Users/nyasu/OneDrive/%E3%83%87%E3%82%B9%E3%82%AF%E3%83%88%E3%83%83%E3%83%97/%E6%8A%80%E8%A1%93%E3%83%81%E3%83%A3%E3%83%AC%E3%83%B3%E3%82%B8%E9%83%A8/2023/tetris-master/game_manager/machine_learning/model/tutorial/block_controller_tutorial.ipynb#X25sZmlsZQ%3D%3D?line=3'>4</a>\u001b[0m     block_array \u001b[39m=\u001b[39m []\n\u001b[0;32m      <a href='vscode-notebook-cell:/c%3A/Users/nyasu/OneDrive/%E3%83%87%E3%82%B9%E3%82%AF%E3%83%88%E3%83%83%E3%83%97/%E6%8A%80%E8%A1%93%E3%83%81%E3%83%A3%E3%83%AC%E3%83%B3%E3%82%B8%E9%83%A8/2023/tetris-master/game_manager/machine_learning/model/tutorial/block_controller_tutorial.ipynb#X25sZmlsZQ%3D%3D?line=4'>5</a>\u001b[0m     fig, ax \u001b[39m=\u001b[39m plt\u001b[39m.\u001b[39msubplots()\n",
      "\u001b[1;31mAttributeError\u001b[0m: 'list' object has no attribute 'reshape'"
     ]
    }
   ],
   "source": [
    "data = [0, 0, 0, 0, 0, 0, 0, 0, 0, 0,\n",
    "        0, 0, 0, 0, 0, 0, 0, 0, 0, 0,\n",
    "        0, 0, 0, 0, 0, 0, 0, 0, 0, 0,\n",
    "        0, 0, 0, 0, 0, 0, 0, 0, 0, 0,\n",
    "        0, 0, 0, 0, 0, 0, 0, 0, 0, 0,\n",
    "        0, 0, 0, 0, 0, 0, 0, 0, 0, 0,\n",
    "        0, 0, 0, 0, 0, 0, 0, 0, 0, 0,\n",
    "        0, 0, 0, 0, 0, 0, 0, 0, 0, 0,\n",
    "        0, 0, 0, 0, 0, 0, 0, 0, 0, 0,\n",
    "        0, 0, 0, 0, 0, 0, 0, 0, 0, 0,\n",
    "        0, 0, 0, 0, 0, 0, 0, 0, 0, 0,\n",
    "        0, 0, 0, 0, 0, 0, 0, 0, 0, 0,\n",
    "        0, 0, 0, 0, 0, 0, 0, 0, 0, 0,\n",
    "        0, 0, 0, 0, 0, 0, 0, 0, 0, 0,\n",
    "        0, 0, 0, 0, 0, 0, 0, 0, 0, 0,\n",
    "        0, 0, 0, 0, 0, 0, 0, 0, 0, 0,\n",
    "        0, 0, 0, 0, 0, 0, 0, 0, 0, 0,\n",
    "        0, 0, 0, 0, 0, 0, 0, 0, 0, 0,\n",
    "        0, 0, 0, 0, 0, 0, 0, 0, 0, 0,\n",
    "        0, 0, 0, 0, 0, 0, 0, 0, 0, 0,\n",
    "        0, 0, 0, 0, 0, 0, 0, 0, 0, 0,\n",
    "        0, 0, 0, 0, 0, 0, 0, 0, 0, 0]\n",
    "\n",
    "\n",
    "\n"
   ]
  },
  {
   "attachments": {},
   "cell_type": "markdown",
   "metadata": {},
   "source": []
  },
  {
   "cell_type": "code",
   "execution_count": null,
   "metadata": {},
   "outputs": [],
   "source": [
    "\n",
    "\n"
   ]
  },
  {
   "cell_type": "code",
   "execution_count": null,
   "metadata": {},
   "outputs": [],
   "source": []
  }
 ],
 "metadata": {
  "kernelspec": {
   "display_name": "base",
   "language": "python",
   "name": "python3"
  },
  "language_info": {
   "codemirror_mode": {
    "name": "ipython",
    "version": 3
   },
   "file_extension": ".py",
   "mimetype": "text/x-python",
   "name": "python",
   "nbconvert_exporter": "python",
   "pygments_lexer": "ipython3",
   "version": "3.10.11"
  },
  "orig_nbformat": 4
 },
 "nbformat": 4,
 "nbformat_minor": 2
}
