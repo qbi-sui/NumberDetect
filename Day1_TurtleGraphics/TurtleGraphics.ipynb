{
 "cells": [
  {
   "attachments": {},
   "cell_type": "markdown",
   "metadata": {},
   "source": [
    "# Day1　タートルグラフィックスでPythonを学ぼう\n",
    "Pythonの世界にようこそ！<br>\n",
    "PC画面上にお絵描きをしてくれる「タートルグラフィックス」で、自分の書いたコードが動く体験をしてみましょう。\n",
    "- Pythonはじめの一歩 (「import」というおまじない・処理を呼び出す「関数」)\n",
    "- 変数 (演算子)\n",
    "- 制御構文 (for文・if文)"
   ]
  },
  {
   "attachments": {},
   "cell_type": "markdown",
   "metadata": {},
   "source": [
    "## 0. コードの実行方法\n",
    "ソースコードだけでなくこうしたメモ書きも一緒に残しておける`.ipynb`という拡張子のファイルで、ソースコードを実行する方法を学びましょう。<br><br>\n",
    "下の`print(\"10\")`と書かれた欄をクリックしてカーソルを合わせたら、`Shift`キーと`Enter`キーを同時押ししてみてください。<br>\n",
    "欄の下に「10」と文字が表示されれば、実行成功です！"
   ]
  },
  {
   "cell_type": "code",
   "execution_count": null,
   "metadata": {},
   "outputs": [],
   "source": [
    "print(\"10\")"
   ]
  },
  {
   "attachments": {},
   "cell_type": "markdown",
   "metadata": {},
   "source": [
    "- - -"
   ]
  },
  {
   "attachments": {},
   "cell_type": "markdown",
   "metadata": {},
   "source": [
    "## 1. おまじない\n",
    "いま学んだ動かし方で、下のブロックも実行してみてください。<br>\n",
    "エラーを吐かず何も表示されなければ、実行成功です。<br>\n",
    "これで「タートルグラフィック」という機能を使えるようになります。"
   ]
  },
  {
   "cell_type": "code",
   "execution_count": null,
   "metadata": {},
   "outputs": [],
   "source": [
    "import turtle"
   ]
  },
  {
   "attachments": {},
   "cell_type": "markdown",
   "metadata": {},
   "source": [
    "- - -"
   ]
  },
  {
   "attachments": {},
   "cell_type": "markdown",
   "metadata": {},
   "source": [
    "## 2. 直線を描く\n",
    "お待たせしました、いよいよPC画面上にお絵描きをしてみましょう。<br><br>\n",
    "\n",
    "「タートルグラフィックス」は、自分が指定した直線を描いてもらう機能です。<br>\n",
    "以下のブロックを実行してみてください。<br>\n",
    "別のウインドウが表示されて、右に線が伸びるアニメーションが表示されたら成功です！<br><br>\n",
    "\n",
    "この3行のソースコードは、\n",
    "\n",
    "- タートルグラフィックス用の別のウインドウを表示させる\n",
    "- 矢印の向いている向きへ直線を描画する\n",
    "- 描画を終了する\n",
    "\n",
    "という意味をそれぞれ持っています。<br>\n",
    "`setup`の右の括弧に書かれた`width`と`height`はそれぞれ、新たに表示されたウインドウの横幅と高さです (試しにこの数字を変更してみると、ウインドウのサイズが変わるはずです)。<br><br>\n",
    "\n",
    "今後タートルグラフィックスを動かしてみるときには、ウインドウの大きさを指定する`setup()`と`done()`の間に処理を描くことになります。"
   ]
  },
  {
   "cell_type": "code",
   "execution_count": null,
   "metadata": {},
   "outputs": [],
   "source": [
    "turtle.setup(width=500, height=500)\n",
    "turtle.forward(200)\n",
    "turtle.done()"
   ]
  },
  {
   "attachments": {},
   "cell_type": "markdown",
   "metadata": {},
   "source": [
    "### Q. 線の長さと色を変えてみよう\n",
    "以下のリンクに添付されているPDFのp.1-2には、直線を描画する以外の機能がまとめられています。<br>\n",
    "この中にある機能から、\n",
    "\n",
    "- 上で描画した線と比べて、長さを半分にする\n",
    "- 黒ではなく、赤に変える\n",
    "\n",
    "ような線を描画してみてください。<br><br>\n",
    "\n",
    "予め、\n",
    "\n",
    "- タートルグラフィックス用の別のウインドウを表示させる`setup()`\n",
    "- 描画を終了する`done()`\n",
    "\n",
    "は書いています。線を描画するソースコードを、以下のブロックの<br>\n",
    "`#------------ここから--------------`<br>\n",
    "<br>\n",
    "`#------------ここまで--------------`<br>\n",
    "の間に書いてください。<br><br>\n",
    "\n",
    "参考PDF：[# テトリスv4_e1_ブラボー > ■](https://discord.com/channels/888398536998268928/1063437233987792987/1067052216210423828)"
   ]
  },
  {
   "cell_type": "code",
   "execution_count": null,
   "metadata": {},
   "outputs": [],
   "source": [
    "turtle.setup(width=500, height=500)\n",
    "#------------ここから--------------\n",
    "\n",
    "#------------ここまで--------------\n",
    "turtle.done()"
   ]
  },
  {
   "attachments": {},
   "cell_type": "markdown",
   "metadata": {},
   "source": [
    "- - -"
   ]
  },
  {
   "attachments": {},
   "cell_type": "markdown",
   "metadata": {},
   "source": [
    "## 3. 向きを変える\n",
    "PDFの中に「タートルの向きを変える」という機能があったと思います。<br>\n",
    "試しに`left()`と`right()`を使ってみましょう。<br><br>\n",
    "\n",
    "`forward`の括弧の中の数字で線の長さを指定できるのと同様に、`left()`と`right()`の場合はそれぞれ向きを変える角度を表します。<br>\n",
    "ここで、最初にタートルグラフィックスを起動したときに右へ線が描画されたように、初期値は右向き真っ直ぐ (x軸の正方向)であることに注意してください。"
   ]
  },
  {
   "cell_type": "code",
   "execution_count": null,
   "metadata": {},
   "outputs": [],
   "source": [
    "turtle.setup(width=500, height=500)\n",
    "turtle.forward(200)\n",
    "#------------違いはここから--------------\n",
    "turtle.left(90)\n",
    "#------------違いはここまで--------------\n",
    "turtle.forward(200)\n",
    "turtle.done()"
   ]
  },
  {
   "cell_type": "code",
   "execution_count": null,
   "metadata": {},
   "outputs": [],
   "source": [
    "turtle.setup(width=500, height=500)\n",
    "turtle.forward(200)\n",
    "#------------違いはここから--------------\n",
    "turtle.right(90)\n",
    "#------------違いはここまで--------------\n",
    "turtle.forward(200)\n",
    "turtle.done()"
   ]
  },
  {
   "attachments": {},
   "cell_type": "markdown",
   "metadata": {},
   "source": [
    "### Q. 正方形を描いてみよう\n",
    "一辺の長さは200とします。<br>\n",
    "「正方形はどんな線を使えば描けるか？」を考えてみてください。"
   ]
  },
  {
   "cell_type": "code",
   "execution_count": null,
   "metadata": {},
   "outputs": [],
   "source": [
    "turtle.setup(width=500, height=500)\n",
    "#------------ここから--------------\n",
    "\n",
    "#------------ここまで--------------\n",
    "turtle.done()"
   ]
  },
  {
   "attachments": {},
   "cell_type": "markdown",
   "metadata": {},
   "source": [
    "- - -"
   ]
  },
  {
   "attachments": {},
   "cell_type": "markdown",
   "metadata": {},
   "source": [
    "## 4. for文\n",
    "正方形を描く例題、一辺を描画して向きを変える操作を4回も書くのは大変だったのではないでしょうか？<br>\n",
    "「同じコードを書くなら何回もコピペしちゃえ」という楽もできるとは思います。<br>\n",
    "しかしプログラミングには、この「何回もコピペする」ことも楽して書くために、`for`文という機能があります。<br><br>\n",
    "\n",
    "下のブロックを実行してみてください。`for`の下2行には、\n",
    "\n",
    "- `forward(200)`で真っすぐ線を描く\n",
    "- `left(90)`で左に90度向く (と真上を向くようになる)\n",
    "\n",
    "という処理しか書かれていません。<br>\n",
    "`for`文とは、その下に半角スペース4つ分 (「インデント」と呼びます。`Tab`キーでスペース4つ分を一気に入力できます。)空けて書いた処理を繰り返す文法です。<br>\n",
    "`for i in range(4)`と書くと、4回繰り返すことができます。"
   ]
  },
  {
   "cell_type": "code",
   "execution_count": null,
   "metadata": {},
   "outputs": [],
   "source": [
    "turtle.setup(width=500, height=500)\n",
    "for i in range(4):\n",
    "    turtle.forward(200)\n",
    "    turtle.left(90)\n",
    "turtle.done()"
   ]
  },
  {
   "attachments": {},
   "cell_type": "markdown",
   "metadata": {},
   "source": [
    "### Q. 正N角形を描こう \n",
    "一辺の長さは50とします。<br>\n",
    "ここで、`N = `の右の数字を変更するだけで、その多角形を描画できるようにしてください。<br>\n",
    "このように数字を文字として置き換えて表したものを、「変数」と呼びます。"
   ]
  },
  {
   "cell_type": "code",
   "execution_count": null,
   "metadata": {},
   "outputs": [],
   "source": [
    "turtle.setup(width=500, height=500)\n",
    "\n",
    "# 好きな数字に変更してみてください\n",
    "N = 10\n",
    "\n",
    "#------------ここから--------------\n",
    "\n",
    "#------------ここまで--------------\n",
    "\n",
    "turtle.done()"
   ]
  },
  {
   "attachments": {},
   "cell_type": "markdown",
   "metadata": {},
   "source": [
    "### Q. ★を描こう  \n",
    "一辺の長さは200とします。<br>\n",
    "for文を使い、またPDFのp.1-2を参考にして、画面の中央に表示してください。"
   ]
  },
  {
   "cell_type": "code",
   "execution_count": null,
   "metadata": {},
   "outputs": [],
   "source": [
    "turtle.setup(width=500, height=500)\n",
    "#------------ここから--------------\n",
    "\n",
    "#------------ここまで--------------\n",
    "turtle.done()"
   ]
  },
  {
   "attachments": {},
   "cell_type": "markdown",
   "metadata": {},
   "source": [
    "- - -"
   ]
  },
  {
   "attachments": {},
   "cell_type": "markdown",
   "metadata": {},
   "source": [
    "## 5. 関数\n",
    "この課題では10行程度のソースコードですが、テトリスのソースコードは数百行に及びます。<br>\n",
    "似たような処理をするために`N`の値を変えたいとき、数百行のソースコードから`N`を探し出して値を変える・・・というのは、骨が折れる作業だと思います。<br>\n",
    "そこで、処理をひとまとめにすることのできる「関数」が便利です。<br><br>\n",
    "\n",
    "下のブロックを実行してみてください。<br>\n",
    "関数を使うには2つのステップがあり、まず関数の名前とそのひとまとめにしたい処理を「定義」してあげます。<br>\n",
    "このブロックは定義だけなので、何も表示されません。"
   ]
  },
  {
   "cell_type": "code",
   "execution_count": null,
   "metadata": {},
   "outputs": [],
   "source": [
    "def drawRegularNgon(N):\n",
    "    if N<=0:\n",
    "        print(\"Invalid value!\")\n",
    "        return\n",
    "\n",
    "    turtle.setup(width=500, height=500)\n",
    "    for i in range(N):\n",
    "        turtle.forward(50)\n",
    "        turtle.left(360/N)\n",
    "    turtle.done()"
   ]
  },
  {
   "attachments": {},
   "cell_type": "markdown",
   "metadata": {},
   "source": [
    "次に、関数に値を指定して「コール」します。<br>\n",
    "括弧の中の数字を自由に変更した上で、下のブロックを実行してみてください。<br>\n",
    "このコードだけでどのような正N角形も描けます。<br>\n",
    "括弧の中身のことを、関数の「引数」と呼びます。"
   ]
  },
  {
   "cell_type": "code",
   "execution_count": null,
   "metadata": {},
   "outputs": [],
   "source": [
    "drawRegularNgon(10)"
   ]
  },
  {
   "attachments": {},
   "cell_type": "markdown",
   "metadata": {},
   "source": [
    "さらに、長さも指定したい場合にも対応できるように引数を増やしてみましょう。<br>\n",
    "関数を定義したブロックと、関数をコールするブロックを順に実行してみてください。<br>\n",
    "そして、その引数を自由に変更してみてください。"
   ]
  },
  {
   "cell_type": "code",
   "execution_count": null,
   "metadata": {},
   "outputs": [],
   "source": [
    "def drawRegularNgon(N, length=50):\n",
    "    if N<=0:\n",
    "        print(\"Invalid value!\")\n",
    "        return\n",
    "\n",
    "    turtle.setup(width=500, height=500)\n",
    "    for i in range(N):\n",
    "        turtle.forward(length)\n",
    "        turtle.left(360/N)\n",
    "    turtle.done()"
   ]
  },
  {
   "cell_type": "code",
   "execution_count": null,
   "metadata": {},
   "outputs": [],
   "source": [
    "drawRegularNgon(10, 100)"
   ]
  },
  {
   "attachments": {},
   "cell_type": "markdown",
   "metadata": {},
   "source": [
    "- - -"
   ]
  },
  {
   "attachments": {},
   "cell_type": "markdown",
   "metadata": {},
   "source": [
    "## 6. 再帰関数 (おまけ)\n",
    "ある関数の中で自分自身をコールする方法を、「再帰関数」と呼びます。<br>\n",
    "「再帰(=深さ優先探索、DFS)」は、テトリスで言えば「3手先まで考える」場合に使われます。<br>\n",
    "現時点では知っておく程度で大丈夫です。"
   ]
  },
  {
   "cell_type": "code",
   "execution_count": null,
   "metadata": {},
   "outputs": [],
   "source": [
    "def drawMountainLine(length,dim):\n",
    "    if dim == 0:\n",
    "        turtle.forward(length)\n",
    "        turtle.left(60)\n",
    "        turtle.forward(length)\n",
    "        turtle.right(120)\n",
    "        turtle.forward(length)\n",
    "        turtle.left(60)\n",
    "        turtle.forward(length)\n",
    "    else:\n",
    "        drawMountainLine(length/3,dim-1)\n",
    "        turtle.left(60)\n",
    "        drawMountainLine(length/3,dim-1)\n",
    "        turtle.right(120)\n",
    "        drawMountainLine(length/3,dim-1)\n",
    "        turtle.left(60)\n",
    "        drawMountainLine(length/3,dim-1)\n",
    "\n",
    "turtle.tracer(False) #亀ちゃんの軌跡を追うと重くなるため、今回は追わない設定に\n",
    "turtle.setup(width=1500, height=700)\n",
    "turtle.up()\n",
    "turtle.backward(500)\n",
    "turtle.down()\n",
    "\n",
    "drawMountainLine(300,4)\n",
    "\n",
    "turtle.done()"
   ]
  },
  {
   "cell_type": "code",
   "execution_count": null,
   "metadata": {},
   "outputs": [],
   "source": []
  }
 ],
 "metadata": {
  "kernelspec": {
   "display_name": "Python 3",
   "language": "python",
   "name": "python3"
  },
  "language_info": {
   "codemirror_mode": {
    "name": "ipython",
    "version": 3
   },
   "file_extension": ".py",
   "mimetype": "text/x-python",
   "name": "python",
   "nbconvert_exporter": "python",
   "pygments_lexer": "ipython3",
   "version": "3.8.10"
  },
  "orig_nbformat": 4
 },
 "nbformat": 4,
 "nbformat_minor": 2
}
